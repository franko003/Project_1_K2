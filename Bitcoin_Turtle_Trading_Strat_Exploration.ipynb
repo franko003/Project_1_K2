{
 "cells": [
  {
   "cell_type": "markdown",
   "metadata": {},
   "source": [
    "# Bitcoin Turtle Trading Strategy Exploration"
   ]
  },
  {
   "cell_type": "markdown",
   "metadata": {},
   "source": [
    "### Description\n",
    "\n",
    "This project is an exploration of a very simplified version of the famous \"Turtle\"\n",
    "trading strategy done on the Bitcoin price data.  The strategy consists of looking\n",
    "at the past 4 weeks of price data and calculating the total range.  If price exceeds\n",
    "the high of the range at any point on a given day a hypothetical long trade is\n",
    "entered from a price level just above the range high.  We then calculate the difference\n",
    "in this entry price and the closing price of Bitcoin 4 weeks later.  The analysis\n",
    "is then done on these differences to determine if breaking out above a 4 week high\n",
    "price leads to higher prices 4 weeks later."
   ]
  },
  {
   "cell_type": "markdown",
   "metadata": {},
   "source": [
    "### Data\n",
    "\n",
    "The dataset is cryptocurrency daily price data from [Coinmarketcap.com](https://coinmarketcap.com/), aggregated at [Kaggle.com](https://www.kaggle.com/)\n",
    "\n",
    "https://www.kaggle.com/philmohun/cryptocurrency-financial-data"
   ]
  },
  {
   "cell_type": "markdown",
   "metadata": {},
   "source": [
    "## Import the data"
   ]
  },
  {
   "cell_type": "markdown",
   "metadata": {},
   "source": [
    "The full dataset is made up of 200 cryptocurrencies and provides detailed price, volume, and market cap data for each over varying dates, depending on the coin itself.  The first 4 rows are all repeats of the column headers so we can omit.    "
   ]
  },
  {
   "cell_type": "code",
   "execution_count": 1,
   "metadata": {
    "collapsed": true
   },
   "outputs": [],
   "source": [
    "import pandas as pd\n",
    "import numpy as np\n",
    "import matplotlib.pyplot as plt"
   ]
  },
  {
   "cell_type": "code",
   "execution_count": 2,
   "metadata": {
    "collapsed": true
   },
   "outputs": [],
   "source": [
    "% matplotlib inline"
   ]
  },
  {
   "cell_type": "code",
   "execution_count": 7,
   "metadata": {},
   "outputs": [
    {
     "data": {
      "text/html": [
       "<div>\n",
       "<style>\n",
       "    .dataframe thead tr:only-child th {\n",
       "        text-align: right;\n",
       "    }\n",
       "\n",
       "    .dataframe thead th {\n",
       "        text-align: left;\n",
       "    }\n",
       "\n",
       "    .dataframe tbody tr th {\n",
       "        vertical-align: top;\n",
       "    }\n",
       "</style>\n",
       "<table border=\"1\" class=\"dataframe\">\n",
       "  <thead>\n",
       "    <tr style=\"text-align: right;\">\n",
       "      <th></th>\n",
       "      <th>Currency</th>\n",
       "      <th>Date</th>\n",
       "      <th>Open</th>\n",
       "      <th>High</th>\n",
       "      <th>Low</th>\n",
       "      <th>Close</th>\n",
       "      <th>Volume</th>\n",
       "      <th>Market Cap</th>\n",
       "    </tr>\n",
       "  </thead>\n",
       "  <tbody>\n",
       "    <tr>\n",
       "      <th>0</th>\n",
       "      <td>0x</td>\n",
       "      <td>Feb 11, 2018</td>\n",
       "      <td>1.09</td>\n",
       "      <td>1.09</td>\n",
       "      <td>0.934155</td>\n",
       "      <td>0.979054</td>\n",
       "      <td>4,888,770</td>\n",
       "      <td>555,363,000</td>\n",
       "    </tr>\n",
       "    <tr>\n",
       "      <th>1</th>\n",
       "      <td>0x</td>\n",
       "      <td>Feb 10, 2018</td>\n",
       "      <td>1.14</td>\n",
       "      <td>1.20</td>\n",
       "      <td>0.985705</td>\n",
       "      <td>1.10</td>\n",
       "      <td>10,828,700</td>\n",
       "      <td>576,535,000</td>\n",
       "    </tr>\n",
       "    <tr>\n",
       "      <th>2</th>\n",
       "      <td>0x</td>\n",
       "      <td>Feb 09, 2018</td>\n",
       "      <td>1.08</td>\n",
       "      <td>1.15</td>\n",
       "      <td>1.01</td>\n",
       "      <td>1.14</td>\n",
       "      <td>5,979,420</td>\n",
       "      <td>545,842,000</td>\n",
       "    </tr>\n",
       "    <tr>\n",
       "      <th>3</th>\n",
       "      <td>0x</td>\n",
       "      <td>Feb 08, 2018</td>\n",
       "      <td>0.988963</td>\n",
       "      <td>1.13</td>\n",
       "      <td>0.988963</td>\n",
       "      <td>1.07</td>\n",
       "      <td>12,992,800</td>\n",
       "      <td>501,142,000</td>\n",
       "    </tr>\n",
       "    <tr>\n",
       "      <th>4</th>\n",
       "      <td>0x</td>\n",
       "      <td>Feb 07, 2018</td>\n",
       "      <td>1.01</td>\n",
       "      <td>1.16</td>\n",
       "      <td>0.902145</td>\n",
       "      <td>0.993355</td>\n",
       "      <td>13,476,600</td>\n",
       "      <td>513,163,000</td>\n",
       "    </tr>\n",
       "  </tbody>\n",
       "</table>\n",
       "</div>"
      ],
      "text/plain": [
       "  Currency          Date      Open  High       Low     Close      Volume  \\\n",
       "0       0x  Feb 11, 2018      1.09  1.09  0.934155  0.979054   4,888,770   \n",
       "1       0x  Feb 10, 2018      1.14  1.20  0.985705      1.10  10,828,700   \n",
       "2       0x  Feb 09, 2018      1.08  1.15      1.01      1.14   5,979,420   \n",
       "3       0x  Feb 08, 2018  0.988963  1.13  0.988963      1.07  12,992,800   \n",
       "4       0x  Feb 07, 2018      1.01  1.16  0.902145  0.993355  13,476,600   \n",
       "\n",
       "    Market Cap  \n",
       "0  555,363,000  \n",
       "1  576,535,000  \n",
       "2  545,842,000  \n",
       "3  501,142,000  \n",
       "4  513,163,000  "
      ]
     },
     "execution_count": 7,
     "metadata": {},
     "output_type": "execute_result"
    }
   ],
   "source": [
    "# Read in all data and inspect\n",
    "df_all = pd.read_csv('consolidated_coin_data.csv', skiprows=4, low_memory=False)\n",
    "df_all.head()"
   ]
  },
  {
   "cell_type": "code",
   "execution_count": 9,
   "metadata": {},
   "outputs": [
    {
     "data": {
      "text/plain": [
       "Currency      object\n",
       "Date          object\n",
       "Open          object\n",
       "High          object\n",
       "Low           object\n",
       "Close         object\n",
       "Volume        object\n",
       "Market Cap    object\n",
       "dtype: object"
      ]
     },
     "execution_count": 9,
     "metadata": {},
     "output_type": "execute_result"
    }
   ],
   "source": [
    "df_all.dtypes"
   ]
  },
  {
   "cell_type": "markdown",
   "metadata": {},
   "source": [
    "## Clean the data"
   ]
  },
  {
   "cell_type": "markdown",
   "metadata": {},
   "source": [
    "A couple things to note here.  First of all, for our purposes we will only need to look at Bitcoin data, specifically the columns Currency, Data, High, Low and Close.  Also, we notice that the `dtype` for each column is `object` so we know well need to cast to `float` before performing computations on the data."
   ]
  },
  {
   "cell_type": "code",
   "execution_count": 23,
   "metadata": {},
   "outputs": [
    {
     "data": {
      "text/html": [
       "<div>\n",
       "<style>\n",
       "    .dataframe thead tr:only-child th {\n",
       "        text-align: right;\n",
       "    }\n",
       "\n",
       "    .dataframe thead th {\n",
       "        text-align: left;\n",
       "    }\n",
       "\n",
       "    .dataframe tbody tr th {\n",
       "        vertical-align: top;\n",
       "    }\n",
       "</style>\n",
       "<table border=\"1\" class=\"dataframe\">\n",
       "  <thead>\n",
       "    <tr style=\"text-align: right;\">\n",
       "      <th></th>\n",
       "      <th>High</th>\n",
       "      <th>Low</th>\n",
       "      <th>Close</th>\n",
       "    </tr>\n",
       "  </thead>\n",
       "  <tbody>\n",
       "    <tr>\n",
       "      <th>count</th>\n",
       "      <td>1751.000000</td>\n",
       "      <td>1751.000000</td>\n",
       "      <td>1751.000000</td>\n",
       "    </tr>\n",
       "    <tr>\n",
       "      <th>mean</th>\n",
       "      <td>1491.354038</td>\n",
       "      <td>1376.062067</td>\n",
       "      <td>1441.005945</td>\n",
       "    </tr>\n",
       "    <tr>\n",
       "      <th>std</th>\n",
       "      <td>3033.574104</td>\n",
       "      <td>2723.897810</td>\n",
       "      <td>2899.302845</td>\n",
       "    </tr>\n",
       "    <tr>\n",
       "      <th>min</th>\n",
       "      <td>74.560000</td>\n",
       "      <td>65.530000</td>\n",
       "      <td>68.430000</td>\n",
       "    </tr>\n",
       "    <tr>\n",
       "      <th>25%</th>\n",
       "      <td>278.830000</td>\n",
       "      <td>267.865000</td>\n",
       "      <td>274.410000</td>\n",
       "    </tr>\n",
       "    <tr>\n",
       "      <th>50%</th>\n",
       "      <td>492.370000</td>\n",
       "      <td>468.790000</td>\n",
       "      <td>479.000000</td>\n",
       "    </tr>\n",
       "    <tr>\n",
       "      <th>75%</th>\n",
       "      <td>881.725000</td>\n",
       "      <td>824.280000</td>\n",
       "      <td>860.205000</td>\n",
       "    </tr>\n",
       "    <tr>\n",
       "      <th>max</th>\n",
       "      <td>20089.000000</td>\n",
       "      <td>18974.100000</td>\n",
       "      <td>19497.400000</td>\n",
       "    </tr>\n",
       "  </tbody>\n",
       "</table>\n",
       "</div>"
      ],
      "text/plain": [
       "               High           Low         Close\n",
       "count   1751.000000   1751.000000   1751.000000\n",
       "mean    1491.354038   1376.062067   1441.005945\n",
       "std     3033.574104   2723.897810   2899.302845\n",
       "min       74.560000     65.530000     68.430000\n",
       "25%      278.830000    267.865000    274.410000\n",
       "50%      492.370000    468.790000    479.000000\n",
       "75%      881.725000    824.280000    860.205000\n",
       "max    20089.000000  18974.100000  19497.400000"
      ]
     },
     "execution_count": 23,
     "metadata": {},
     "output_type": "execute_result"
    }
   ],
   "source": [
    "# Create a dataframe of only Bitcoin High, Low, Close\n",
    "df_btc = df_all[df_all.Currency == 'bitcoin']\n",
    "df_btc = df_btc[['Currency', 'Date', 'High', 'Low', 'Close']]\n",
    "\n",
    "# Set make Data a datetime object and use as index\n",
    "df_btc.Date = pd.to_datetime(df_btc.Date)\n",
    "df_btc = df_btc.set_index('Date')\n",
    "\n",
    "# Cast price data columns to floats\n",
    "df_btc.High = df_btc.High.apply(pd.to_numeric)\n",
    "df_btc.Low = df_btc.Low.apply(pd.to_numeric)\n",
    "df_btc.Close = df_btc.Close.apply(pd.to_numeric)\n",
    "\n",
    "df_btc.describe()"
   ]
  },
  {
   "cell_type": "code",
   "execution_count": 24,
   "metadata": {},
   "outputs": [
    {
     "data": {
      "text/plain": [
       "Currency     object\n",
       "High        float64\n",
       "Low         float64\n",
       "Close       float64\n",
       "dtype: object"
      ]
     },
     "execution_count": 24,
     "metadata": {},
     "output_type": "execute_result"
    }
   ],
   "source": [
    "df_btc.dtypes"
   ]
  },
  {
   "cell_type": "code",
   "execution_count": null,
   "metadata": {
    "collapsed": true
   },
   "outputs": [],
   "source": []
  }
 ],
 "metadata": {
  "kernelspec": {
   "display_name": "Python 3",
   "language": "python",
   "name": "python3"
  },
  "language_info": {
   "codemirror_mode": {
    "name": "ipython",
    "version": 3
   },
   "file_extension": ".py",
   "mimetype": "text/x-python",
   "name": "python",
   "nbconvert_exporter": "python",
   "pygments_lexer": "ipython3",
   "version": "3.6.3"
  }
 },
 "nbformat": 4,
 "nbformat_minor": 2
}
