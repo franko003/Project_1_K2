{
 "cells": [
  {
   "cell_type": "markdown",
   "metadata": {},
   "source": [
    "# **Bitcoin Turtle Trading Strategy Exploration**"
   ]
  },
  {
   "cell_type": "markdown",
   "metadata": {},
   "source": [
    "### Description\n",
    "\n",
    "This project is an exploration of a very simplified version of the famous [Turtle](http://www.turtletrader.com/)\n",
    "trading strategy done on the Bitcoin price data.  The strategy consists of looking\n",
    "at the past 4 weeks of price data and calculating the total range.  If price exceeds\n",
    "the high of the range at any point on a given day a hypothetical long trade is\n",
    "entered from a price level just above the range high.  We then calculate the difference\n",
    "in this entry price and the closing price of Bitcoin 4 weeks later.  The analysis\n",
    "is then done on these differences to determine if breaking out above a 4 week high\n",
    "price leads to higher prices 4 weeks later."
   ]
  },
  {
   "cell_type": "markdown",
   "metadata": {},
   "source": [
    "### Data\n",
    "\n",
    "The dataset is cryptocurrency daily price data from [Coinmarketcap.com](https://coinmarketcap.com/), aggregated at [Kaggle.com](https://www.kaggle.com/)\n",
    "\n",
    "https://www.kaggle.com/philmohun/cryptocurrency-financial-data"
   ]
  },
  {
   "cell_type": "markdown",
   "metadata": {},
   "source": [
    "## Import the data"
   ]
  },
  {
   "cell_type": "markdown",
   "metadata": {},
   "source": [
    "The full dataset is made up of 200 cryptocurrencies and provides detailed price, volume, and market cap data for each over varying dates, depending on the coin itself.  The first 4 rows are all repeats of the column headers so we can omit.    "
   ]
  },
  {
   "cell_type": "code",
   "execution_count": 219,
   "metadata": {
    "collapsed": true
   },
   "outputs": [],
   "source": [
    "import pandas as pd\n",
    "import numpy as np\n",
    "import matplotlib.pyplot as plt\n",
    "import scipy as sp\n",
    "from scipy import stats"
   ]
  },
  {
   "cell_type": "code",
   "execution_count": 2,
   "metadata": {
    "collapsed": true
   },
   "outputs": [],
   "source": [
    "% matplotlib inline"
   ]
  },
  {
   "cell_type": "code",
   "execution_count": 7,
   "metadata": {},
   "outputs": [
    {
     "data": {
      "text/html": [
       "<div>\n",
       "<style>\n",
       "    .dataframe thead tr:only-child th {\n",
       "        text-align: right;\n",
       "    }\n",
       "\n",
       "    .dataframe thead th {\n",
       "        text-align: left;\n",
       "    }\n",
       "\n",
       "    .dataframe tbody tr th {\n",
       "        vertical-align: top;\n",
       "    }\n",
       "</style>\n",
       "<table border=\"1\" class=\"dataframe\">\n",
       "  <thead>\n",
       "    <tr style=\"text-align: right;\">\n",
       "      <th></th>\n",
       "      <th>Currency</th>\n",
       "      <th>Date</th>\n",
       "      <th>Open</th>\n",
       "      <th>High</th>\n",
       "      <th>Low</th>\n",
       "      <th>Close</th>\n",
       "      <th>Volume</th>\n",
       "      <th>Market Cap</th>\n",
       "    </tr>\n",
       "  </thead>\n",
       "  <tbody>\n",
       "    <tr>\n",
       "      <th>0</th>\n",
       "      <td>0x</td>\n",
       "      <td>Feb 11, 2018</td>\n",
       "      <td>1.09</td>\n",
       "      <td>1.09</td>\n",
       "      <td>0.934155</td>\n",
       "      <td>0.979054</td>\n",
       "      <td>4,888,770</td>\n",
       "      <td>555,363,000</td>\n",
       "    </tr>\n",
       "    <tr>\n",
       "      <th>1</th>\n",
       "      <td>0x</td>\n",
       "      <td>Feb 10, 2018</td>\n",
       "      <td>1.14</td>\n",
       "      <td>1.20</td>\n",
       "      <td>0.985705</td>\n",
       "      <td>1.10</td>\n",
       "      <td>10,828,700</td>\n",
       "      <td>576,535,000</td>\n",
       "    </tr>\n",
       "    <tr>\n",
       "      <th>2</th>\n",
       "      <td>0x</td>\n",
       "      <td>Feb 09, 2018</td>\n",
       "      <td>1.08</td>\n",
       "      <td>1.15</td>\n",
       "      <td>1.01</td>\n",
       "      <td>1.14</td>\n",
       "      <td>5,979,420</td>\n",
       "      <td>545,842,000</td>\n",
       "    </tr>\n",
       "    <tr>\n",
       "      <th>3</th>\n",
       "      <td>0x</td>\n",
       "      <td>Feb 08, 2018</td>\n",
       "      <td>0.988963</td>\n",
       "      <td>1.13</td>\n",
       "      <td>0.988963</td>\n",
       "      <td>1.07</td>\n",
       "      <td>12,992,800</td>\n",
       "      <td>501,142,000</td>\n",
       "    </tr>\n",
       "    <tr>\n",
       "      <th>4</th>\n",
       "      <td>0x</td>\n",
       "      <td>Feb 07, 2018</td>\n",
       "      <td>1.01</td>\n",
       "      <td>1.16</td>\n",
       "      <td>0.902145</td>\n",
       "      <td>0.993355</td>\n",
       "      <td>13,476,600</td>\n",
       "      <td>513,163,000</td>\n",
       "    </tr>\n",
       "  </tbody>\n",
       "</table>\n",
       "</div>"
      ],
      "text/plain": [
       "  Currency          Date      Open  High       Low     Close      Volume  \\\n",
       "0       0x  Feb 11, 2018      1.09  1.09  0.934155  0.979054   4,888,770   \n",
       "1       0x  Feb 10, 2018      1.14  1.20  0.985705      1.10  10,828,700   \n",
       "2       0x  Feb 09, 2018      1.08  1.15      1.01      1.14   5,979,420   \n",
       "3       0x  Feb 08, 2018  0.988963  1.13  0.988963      1.07  12,992,800   \n",
       "4       0x  Feb 07, 2018      1.01  1.16  0.902145  0.993355  13,476,600   \n",
       "\n",
       "    Market Cap  \n",
       "0  555,363,000  \n",
       "1  576,535,000  \n",
       "2  545,842,000  \n",
       "3  501,142,000  \n",
       "4  513,163,000  "
      ]
     },
     "execution_count": 7,
     "metadata": {},
     "output_type": "execute_result"
    }
   ],
   "source": [
    "# Read in all data and inspect\n",
    "df_all = pd.read_csv('consolidated_coin_data.csv', skiprows=4, low_memory=False)\n",
    "df_all.head()"
   ]
  },
  {
   "cell_type": "code",
   "execution_count": 9,
   "metadata": {},
   "outputs": [
    {
     "data": {
      "text/plain": [
       "Currency      object\n",
       "Date          object\n",
       "Open          object\n",
       "High          object\n",
       "Low           object\n",
       "Close         object\n",
       "Volume        object\n",
       "Market Cap    object\n",
       "dtype: object"
      ]
     },
     "execution_count": 9,
     "metadata": {},
     "output_type": "execute_result"
    }
   ],
   "source": [
    "df_all.dtypes"
   ]
  },
  {
   "cell_type": "markdown",
   "metadata": {},
   "source": [
    "## Clean the data"
   ]
  },
  {
   "cell_type": "markdown",
   "metadata": {},
   "source": [
    "A couple things to note here.  First of all, for our purposes we will only need to look at Bitcoin price data, specifically the columns Currency, Date, Open, High, Low and Close.  Also, we notice that the `dtype` for each column is `object` so we know well need to cast to `float` before performing computations on the data."
   ]
  },
  {
   "cell_type": "code",
   "execution_count": 119,
   "metadata": {},
   "outputs": [
    {
     "data": {
      "text/html": [
       "<div>\n",
       "<style>\n",
       "    .dataframe thead tr:only-child th {\n",
       "        text-align: right;\n",
       "    }\n",
       "\n",
       "    .dataframe thead th {\n",
       "        text-align: left;\n",
       "    }\n",
       "\n",
       "    .dataframe tbody tr th {\n",
       "        vertical-align: top;\n",
       "    }\n",
       "</style>\n",
       "<table border=\"1\" class=\"dataframe\">\n",
       "  <thead>\n",
       "    <tr style=\"text-align: right;\">\n",
       "      <th></th>\n",
       "      <th>Currency</th>\n",
       "      <th>Open</th>\n",
       "      <th>High</th>\n",
       "      <th>Low</th>\n",
       "      <th>Close</th>\n",
       "    </tr>\n",
       "    <tr>\n",
       "      <th>Date</th>\n",
       "      <th></th>\n",
       "      <th></th>\n",
       "      <th></th>\n",
       "      <th></th>\n",
       "      <th></th>\n",
       "    </tr>\n",
       "  </thead>\n",
       "  <tbody>\n",
       "    <tr>\n",
       "      <th>2013-04-28</th>\n",
       "      <td>bitcoin</td>\n",
       "      <td>135.30</td>\n",
       "      <td>135.98</td>\n",
       "      <td>132.10</td>\n",
       "      <td>134.21</td>\n",
       "    </tr>\n",
       "    <tr>\n",
       "      <th>2013-04-29</th>\n",
       "      <td>bitcoin</td>\n",
       "      <td>134.44</td>\n",
       "      <td>147.49</td>\n",
       "      <td>134.00</td>\n",
       "      <td>144.54</td>\n",
       "    </tr>\n",
       "    <tr>\n",
       "      <th>2013-04-30</th>\n",
       "      <td>bitcoin</td>\n",
       "      <td>144.00</td>\n",
       "      <td>146.93</td>\n",
       "      <td>134.05</td>\n",
       "      <td>139.00</td>\n",
       "    </tr>\n",
       "    <tr>\n",
       "      <th>2013-05-01</th>\n",
       "      <td>bitcoin</td>\n",
       "      <td>139.00</td>\n",
       "      <td>139.89</td>\n",
       "      <td>107.72</td>\n",
       "      <td>116.99</td>\n",
       "    </tr>\n",
       "    <tr>\n",
       "      <th>2013-05-02</th>\n",
       "      <td>bitcoin</td>\n",
       "      <td>116.38</td>\n",
       "      <td>125.60</td>\n",
       "      <td>92.28</td>\n",
       "      <td>105.21</td>\n",
       "    </tr>\n",
       "  </tbody>\n",
       "</table>\n",
       "</div>"
      ],
      "text/plain": [
       "           Currency    Open    High     Low   Close\n",
       "Date                                               \n",
       "2013-04-28  bitcoin  135.30  135.98  132.10  134.21\n",
       "2013-04-29  bitcoin  134.44  147.49  134.00  144.54\n",
       "2013-04-30  bitcoin  144.00  146.93  134.05  139.00\n",
       "2013-05-01  bitcoin  139.00  139.89  107.72  116.99\n",
       "2013-05-02  bitcoin  116.38  125.60   92.28  105.21"
      ]
     },
     "execution_count": 119,
     "metadata": {},
     "output_type": "execute_result"
    }
   ],
   "source": [
    "# Create a dataframe of only Bitcoin and the columns of interest\n",
    "df_btc = df_all[df_all.Currency == 'bitcoin']\n",
    "df_btc = df_btc[['Currency', 'Date', 'Open','High', 'Low', 'Close']]\n",
    "\n",
    "# Make Date a datetime object and set as index\n",
    "df_btc.Date = pd.to_datetime(df_btc.Date)\n",
    "df_btc = df_btc.set_index('Date')\n",
    "\n",
    "# Cast price data columns to floats\n",
    "df_btc.Open = df_btc.Open.apply(pd.to_numeric)\n",
    "df_btc.High = df_btc.High.apply(pd.to_numeric)\n",
    "df_btc.Low = df_btc.Low.apply(pd.to_numeric)\n",
    "df_btc.Close = df_btc.Close.apply(pd.to_numeric)\n",
    "\n",
    "# Sort data in ascending order\n",
    "df_btc.sort_index(axis=0, ascending=True, inplace=True)\n",
    "df_btc.head()"
   ]
  },
  {
   "cell_type": "code",
   "execution_count": 120,
   "metadata": {},
   "outputs": [
    {
     "data": {
      "text/html": [
       "<div>\n",
       "<style>\n",
       "    .dataframe thead tr:only-child th {\n",
       "        text-align: right;\n",
       "    }\n",
       "\n",
       "    .dataframe thead th {\n",
       "        text-align: left;\n",
       "    }\n",
       "\n",
       "    .dataframe tbody tr th {\n",
       "        vertical-align: top;\n",
       "    }\n",
       "</style>\n",
       "<table border=\"1\" class=\"dataframe\">\n",
       "  <thead>\n",
       "    <tr style=\"text-align: right;\">\n",
       "      <th></th>\n",
       "      <th>Open</th>\n",
       "      <th>High</th>\n",
       "      <th>Low</th>\n",
       "      <th>Close</th>\n",
       "    </tr>\n",
       "  </thead>\n",
       "  <tbody>\n",
       "    <tr>\n",
       "      <th>count</th>\n",
       "      <td>1751.000000</td>\n",
       "      <td>1751.000000</td>\n",
       "      <td>1751.000000</td>\n",
       "      <td>1751.000000</td>\n",
       "    </tr>\n",
       "    <tr>\n",
       "      <th>mean</th>\n",
       "      <td>1436.689475</td>\n",
       "      <td>1491.354038</td>\n",
       "      <td>1376.062067</td>\n",
       "      <td>1441.005945</td>\n",
       "    </tr>\n",
       "    <tr>\n",
       "      <th>std</th>\n",
       "      <td>2895.613276</td>\n",
       "      <td>3033.574104</td>\n",
       "      <td>2723.897810</td>\n",
       "      <td>2899.302845</td>\n",
       "    </tr>\n",
       "    <tr>\n",
       "      <th>min</th>\n",
       "      <td>68.500000</td>\n",
       "      <td>74.560000</td>\n",
       "      <td>65.530000</td>\n",
       "      <td>68.430000</td>\n",
       "    </tr>\n",
       "    <tr>\n",
       "      <th>25%</th>\n",
       "      <td>274.130000</td>\n",
       "      <td>278.830000</td>\n",
       "      <td>267.865000</td>\n",
       "      <td>274.410000</td>\n",
       "    </tr>\n",
       "    <tr>\n",
       "      <th>50%</th>\n",
       "      <td>479.120000</td>\n",
       "      <td>492.370000</td>\n",
       "      <td>468.790000</td>\n",
       "      <td>479.000000</td>\n",
       "    </tr>\n",
       "    <tr>\n",
       "      <th>75%</th>\n",
       "      <td>856.115000</td>\n",
       "      <td>881.725000</td>\n",
       "      <td>824.280000</td>\n",
       "      <td>860.205000</td>\n",
       "    </tr>\n",
       "    <tr>\n",
       "      <th>max</th>\n",
       "      <td>19475.800000</td>\n",
       "      <td>20089.000000</td>\n",
       "      <td>18974.100000</td>\n",
       "      <td>19497.400000</td>\n",
       "    </tr>\n",
       "  </tbody>\n",
       "</table>\n",
       "</div>"
      ],
      "text/plain": [
       "               Open          High           Low         Close\n",
       "count   1751.000000   1751.000000   1751.000000   1751.000000\n",
       "mean    1436.689475   1491.354038   1376.062067   1441.005945\n",
       "std     2895.613276   3033.574104   2723.897810   2899.302845\n",
       "min       68.500000     74.560000     65.530000     68.430000\n",
       "25%      274.130000    278.830000    267.865000    274.410000\n",
       "50%      479.120000    492.370000    468.790000    479.000000\n",
       "75%      856.115000    881.725000    824.280000    860.205000\n",
       "max    19475.800000  20089.000000  18974.100000  19497.400000"
      ]
     },
     "execution_count": 120,
     "metadata": {},
     "output_type": "execute_result"
    }
   ],
   "source": [
    "df_btc.describe()"
   ]
  },
  {
   "cell_type": "code",
   "execution_count": 26,
   "metadata": {},
   "outputs": [
    {
     "data": {
      "text/plain": [
       "Currency     object\n",
       "Open        float64\n",
       "High        float64\n",
       "Low         float64\n",
       "Close       float64\n",
       "dtype: object"
      ]
     },
     "execution_count": 26,
     "metadata": {},
     "output_type": "execute_result"
    }
   ],
   "source": [
    "df_btc.dtypes"
   ]
  },
  {
   "cell_type": "markdown",
   "metadata": {},
   "source": [
    "## General Price Visualization"
   ]
  },
  {
   "cell_type": "markdown",
   "metadata": {},
   "source": [
    "Now that we have the data we want, we can take a look at a general price chart over the entire time period."
   ]
  },
  {
   "cell_type": "code",
   "execution_count": 121,
   "metadata": {
    "scrolled": true
   },
   "outputs": [
    {
     "data": {
      "image/png": "[encoded data removed]",
      "text/plain": [
       "<matplotlib.figure.Figure at 0x1212dfa58>"
      ]
     },
     "metadata": {},
     "output_type": "display_data"
    }
   ],
   "source": [
    "# Generate a plot of closing price over time\n",
    "plt.figure(figsize=(15,5))\n",
    "plt.plot(df_btc.index, df_btc.Close)\n",
    "\n",
    "# Set title and labels\n",
    "plt.title('Bitcoin')\n",
    "plt.xlabel('Date')\n",
    "plt.ylabel('Price ($)')\n",
    "plt.grid()\n",
    "\n",
    "plt.show()"
   ]
  },
  {
   "cell_type": "markdown",
   "metadata": {},
   "source": [
    "Now lets get a closer look at a smaller slice of time where we can see the High and Low plotted as well"
   ]
  },
  {
   "cell_type": "code",
   "execution_count": 288,
   "metadata": {},
   "outputs": [
    {
     "data": {
      "image/png": "[encoded data removed]",
      "text/plain": [
       "<matplotlib.figure.Figure at 0x12057d438>"
      ]
     },
     "metadata": {},
     "output_type": "display_data"
    }
   ],
   "source": [
    "# Pick a smaller window of time and plot High, Low, and Close\n",
    "plt.figure(figsize=(15,5))\n",
    "\n",
    "plt.plot(df_btc.index[1000:1030], df_btc.High[1000:1030], color='r', label='High')\n",
    "plt.plot(df_btc.index[1000:1030], df_btc.Low[1000:1030], color='r', label='Low')\n",
    "plt.plot(df_btc.index[1000:1030], df_btc.Close[1000:1030], color='b', label='Close')\n",
    "\n",
    "# Set title, label, legend, and add fill for range\n",
    "plt.title('Bitcoin\\nHigh, Low, Close')\n",
    "plt.xlabel('Date')\n",
    "plt.ylabel('Price ($)')\n",
    "plt.fill_between(df_btc.index[1000:1030], df_btc.High[1000:1030], df_btc.Low[1000:1030], color='r', alpha=0.15)\n",
    "plt.legend(loc='best')\n",
    "\n",
    "plt.grid()\n",
    "plt.show()"
   ]
  },
  {
   "cell_type": "markdown",
   "metadata": {},
   "source": [
    "## Create new columns of interest (28-day High, 28-day Low)"
   ]
  },
  {
   "cell_type": "markdown",
   "metadata": {},
   "source": [
    "In order to examine the simplified Turtle trading strategy we need to create two new rows of data, one for the **28-day High** and one for the **28-day Low**.  "
   ]
  },
  {
   "cell_type": "code",
   "execution_count": 126,
   "metadata": {},
   "outputs": [
    {
     "data": {
      "text/html": [
       "<div>\n",
       "<style>\n",
       "    .dataframe thead tr:only-child th {\n",
       "        text-align: right;\n",
       "    }\n",
       "\n",
       "    .dataframe thead th {\n",
       "        text-align: left;\n",
       "    }\n",
       "\n",
       "    .dataframe tbody tr th {\n",
       "        vertical-align: top;\n",
       "    }\n",
       "</style>\n",
       "<table border=\"1\" class=\"dataframe\">\n",
       "  <thead>\n",
       "    <tr style=\"text-align: right;\">\n",
       "      <th></th>\n",
       "      <th>Currency</th>\n",
       "      <th>Open</th>\n",
       "      <th>High</th>\n",
       "      <th>Low</th>\n",
       "      <th>Close</th>\n",
       "      <th>High_28_day</th>\n",
       "      <th>Low_28_day</th>\n",
       "    </tr>\n",
       "    <tr>\n",
       "      <th>Date</th>\n",
       "      <th></th>\n",
       "      <th></th>\n",
       "      <th></th>\n",
       "      <th></th>\n",
       "      <th></th>\n",
       "      <th></th>\n",
       "      <th></th>\n",
       "    </tr>\n",
       "  </thead>\n",
       "  <tbody>\n",
       "    <tr>\n",
       "      <th>2018-02-07</th>\n",
       "      <td>bitcoin</td>\n",
       "      <td>7755.49</td>\n",
       "      <td>8509.11</td>\n",
       "      <td>7236.79</td>\n",
       "      <td>7621.30</td>\n",
       "      <td>15018.8</td>\n",
       "      <td>6048.26</td>\n",
       "    </tr>\n",
       "    <tr>\n",
       "      <th>2018-02-08</th>\n",
       "      <td>bitcoin</td>\n",
       "      <td>7637.86</td>\n",
       "      <td>8558.77</td>\n",
       "      <td>7637.86</td>\n",
       "      <td>8265.59</td>\n",
       "      <td>15018.8</td>\n",
       "      <td>6048.26</td>\n",
       "    </tr>\n",
       "    <tr>\n",
       "      <th>2018-02-09</th>\n",
       "      <td>bitcoin</td>\n",
       "      <td>8271.84</td>\n",
       "      <td>8736.98</td>\n",
       "      <td>7884.71</td>\n",
       "      <td>8736.98</td>\n",
       "      <td>14659.5</td>\n",
       "      <td>6048.26</td>\n",
       "    </tr>\n",
       "    <tr>\n",
       "      <th>2018-02-10</th>\n",
       "      <td>bitcoin</td>\n",
       "      <td>8720.08</td>\n",
       "      <td>9122.55</td>\n",
       "      <td>8295.47</td>\n",
       "      <td>8621.90</td>\n",
       "      <td>14659.5</td>\n",
       "      <td>6048.26</td>\n",
       "    </tr>\n",
       "    <tr>\n",
       "      <th>2018-02-11</th>\n",
       "      <td>bitcoin</td>\n",
       "      <td>8616.13</td>\n",
       "      <td>8616.13</td>\n",
       "      <td>7931.10</td>\n",
       "      <td>8129.97</td>\n",
       "      <td>14511.8</td>\n",
       "      <td>6048.26</td>\n",
       "    </tr>\n",
       "  </tbody>\n",
       "</table>\n",
       "</div>"
      ],
      "text/plain": [
       "           Currency     Open     High      Low    Close  High_28_day  \\\n",
       "Date                                                                   \n",
       "2018-02-07  bitcoin  7755.49  8509.11  7236.79  7621.30      15018.8   \n",
       "2018-02-08  bitcoin  7637.86  8558.77  7637.86  8265.59      15018.8   \n",
       "2018-02-09  bitcoin  8271.84  8736.98  7884.71  8736.98      14659.5   \n",
       "2018-02-10  bitcoin  8720.08  9122.55  8295.47  8621.90      14659.5   \n",
       "2018-02-11  bitcoin  8616.13  8616.13  7931.10  8129.97      14511.8   \n",
       "\n",
       "            Low_28_day  \n",
       "Date                    \n",
       "2018-02-07     6048.26  \n",
       "2018-02-08     6048.26  \n",
       "2018-02-09     6048.26  \n",
       "2018-02-10     6048.26  \n",
       "2018-02-11     6048.26  "
      ]
     },
     "execution_count": 126,
     "metadata": {},
     "output_type": "execute_result"
    }
   ],
   "source": [
    "# Create new columns in our dataframe for 28-day high and low\n",
    "df_btc['High_28_day'] = df_btc['High'].rolling(window=28).max().shift(1)\n",
    "df_btc['Low_28_day'] = df_btc['Low'].rolling(window=28).min().shift(1)\n",
    "\n",
    "df_btc.tail()"
   ]
  },
  {
   "cell_type": "markdown",
   "metadata": {},
   "source": [
    "Now lets look at the same small window we did before only with the High price plotted with the 28-day High/Low range."
   ]
  },
  {
   "cell_type": "code",
   "execution_count": 325,
   "metadata": {},
   "outputs": [
    {
     "data": {
      "image/png": "[encoded data removed]",
      "text/plain": [
       "<matplotlib.figure.Figure at 0x116bbfe80>"
      ]
     },
     "metadata": {},
     "output_type": "display_data"
    }
   ],
   "source": [
    "# Generate a plot on the smaller window of time from before of Close and 28-day High/Low range\n",
    "plt.figure(figsize=(15,5))\n",
    "\n",
    "plt.plot(df_btc.index[1000:1100], df_btc.High_28_day[1000:1100], color='g', label='28-day High')\n",
    "plt.plot(df_btc.index[1000:1100], df_btc.Low_28_day[1000:1100], color='g', label='28-day Low')\n",
    "plt.plot(df_btc.index[1000:1100], df_btc.High[1000:1100], color='orange', label='High')\n",
    "\n",
    "# Set title, lables, legend, add fill between range\n",
    "plt.title('Bitcoin\\nHigh, 28-day High/Low Range')\n",
    "plt.xlabel('Date')\n",
    "plt.ylabel('Price ($)')\n",
    "plt.fill_between(df_btc.index[1000:1100], df_btc.High_28_day[1000:1100], df_btc.Low_28_day[1000:1100], color='g', alpha=0.1)\n",
    "plt.legend(loc='best')\n",
    "\n",
    "# Show example break-outs above the range\n",
    "plt.arrow('2016-02-18', 460, 0, -25, width=0.5, head_width=2.25, head_length=5.0, color='yellowgreen')\n",
    "plt.annotate('BO-Entry', ('2016-02-15', 465))\n",
    "plt.arrow('2016-04-15', 460, 0, -25, width=0.5, head_width=2.25, head_length=5.0, color='yellowgreen')\n",
    "plt.annotate('BO-Entry', ('2016-04-12', 465))\n",
    "\n",
    "plt.grid()\n",
    "plt.show()"
   ]
  },
  {
   "cell_type": "code",
   "execution_count": 294,
   "metadata": {},
   "outputs": [
    {
     "name": "stderr",
     "output_type": "stream",
     "text": [
      "/Users/Frank/anaconda3/lib/python3.6/site-packages/ipykernel_launcher.py:1: UserWarning: Boolean Series key will be reindexed to match DataFrame index.\n",
      "  \"\"\"Entry point for launching an IPython kernel.\n"
     ]
    },
    {
     "data": {
      "text/html": [
       "<div>\n",
       "<style>\n",
       "    .dataframe thead tr:only-child th {\n",
       "        text-align: right;\n",
       "    }\n",
       "\n",
       "    .dataframe thead th {\n",
       "        text-align: left;\n",
       "    }\n",
       "\n",
       "    .dataframe tbody tr th {\n",
       "        vertical-align: top;\n",
       "    }\n",
       "</style>\n",
       "<table border=\"1\" class=\"dataframe\">\n",
       "  <thead>\n",
       "    <tr style=\"text-align: right;\">\n",
       "      <th></th>\n",
       "      <th>Currency</th>\n",
       "      <th>Open</th>\n",
       "      <th>High</th>\n",
       "      <th>Low</th>\n",
       "      <th>Close</th>\n",
       "      <th>High_28_day</th>\n",
       "      <th>Low_28_day</th>\n",
       "    </tr>\n",
       "    <tr>\n",
       "      <th>Date</th>\n",
       "      <th></th>\n",
       "      <th></th>\n",
       "      <th></th>\n",
       "      <th></th>\n",
       "      <th></th>\n",
       "      <th></th>\n",
       "      <th></th>\n",
       "    </tr>\n",
       "  </thead>\n",
       "  <tbody>\n",
       "    <tr>\n",
       "      <th>2016-02-18</th>\n",
       "      <td>bitcoin</td>\n",
       "      <td>416.57</td>\n",
       "      <td>426.00</td>\n",
       "      <td>415.64</td>\n",
       "      <td>422.37</td>\n",
       "      <td>422.88</td>\n",
       "      <td>365.45</td>\n",
       "    </tr>\n",
       "    <tr>\n",
       "      <th>2016-02-20</th>\n",
       "      <td>bitcoin</td>\n",
       "      <td>421.60</td>\n",
       "      <td>441.98</td>\n",
       "      <td>421.60</td>\n",
       "      <td>437.16</td>\n",
       "      <td>426.00</td>\n",
       "      <td>365.45</td>\n",
       "    </tr>\n",
       "    <tr>\n",
       "      <th>2016-02-21</th>\n",
       "      <td>bitcoin</td>\n",
       "      <td>437.77</td>\n",
       "      <td>448.05</td>\n",
       "      <td>429.08</td>\n",
       "      <td>438.80</td>\n",
       "      <td>441.98</td>\n",
       "      <td>365.45</td>\n",
       "    </tr>\n",
       "    <tr>\n",
       "      <th>2016-04-15</th>\n",
       "      <td>bitcoin</td>\n",
       "      <td>424.43</td>\n",
       "      <td>429.93</td>\n",
       "      <td>424.43</td>\n",
       "      <td>429.71</td>\n",
       "      <td>428.80</td>\n",
       "      <td>406.14</td>\n",
       "    </tr>\n",
       "    <tr>\n",
       "      <th>2016-04-16</th>\n",
       "      <td>bitcoin</td>\n",
       "      <td>429.57</td>\n",
       "      <td>432.63</td>\n",
       "      <td>428.98</td>\n",
       "      <td>430.57</td>\n",
       "      <td>429.93</td>\n",
       "      <td>407.23</td>\n",
       "    </tr>\n",
       "    <tr>\n",
       "      <th>2016-04-19</th>\n",
       "      <td>bitcoin</td>\n",
       "      <td>428.70</td>\n",
       "      <td>436.02</td>\n",
       "      <td>428.10</td>\n",
       "      <td>435.51</td>\n",
       "      <td>432.63</td>\n",
       "      <td>412.50</td>\n",
       "    </tr>\n",
       "    <tr>\n",
       "      <th>2016-04-20</th>\n",
       "      <td>bitcoin</td>\n",
       "      <td>435.32</td>\n",
       "      <td>443.05</td>\n",
       "      <td>434.41</td>\n",
       "      <td>441.39</td>\n",
       "      <td>436.02</td>\n",
       "      <td>412.50</td>\n",
       "    </tr>\n",
       "    <tr>\n",
       "      <th>2016-04-21</th>\n",
       "      <td>bitcoin</td>\n",
       "      <td>441.42</td>\n",
       "      <td>450.55</td>\n",
       "      <td>440.95</td>\n",
       "      <td>449.43</td>\n",
       "      <td>443.05</td>\n",
       "      <td>412.50</td>\n",
       "    </tr>\n",
       "    <tr>\n",
       "      <th>2016-04-24</th>\n",
       "      <td>bitcoin</td>\n",
       "      <td>450.56</td>\n",
       "      <td>460.15</td>\n",
       "      <td>448.93</td>\n",
       "      <td>458.56</td>\n",
       "      <td>450.55</td>\n",
       "      <td>412.50</td>\n",
       "    </tr>\n",
       "    <tr>\n",
       "      <th>2016-04-25</th>\n",
       "      <td>bitcoin</td>\n",
       "      <td>459.12</td>\n",
       "      <td>466.62</td>\n",
       "      <td>453.59</td>\n",
       "      <td>461.43</td>\n",
       "      <td>460.15</td>\n",
       "      <td>412.50</td>\n",
       "    </tr>\n",
       "    <tr>\n",
       "      <th>2016-04-26</th>\n",
       "      <td>bitcoin</td>\n",
       "      <td>461.65</td>\n",
       "      <td>467.96</td>\n",
       "      <td>461.62</td>\n",
       "      <td>466.09</td>\n",
       "      <td>466.62</td>\n",
       "      <td>412.50</td>\n",
       "    </tr>\n",
       "  </tbody>\n",
       "</table>\n",
       "</div>"
      ],
      "text/plain": [
       "           Currency    Open    High     Low   Close  High_28_day  Low_28_day\n",
       "Date                                                                        \n",
       "2016-02-18  bitcoin  416.57  426.00  415.64  422.37       422.88      365.45\n",
       "2016-02-20  bitcoin  421.60  441.98  421.60  437.16       426.00      365.45\n",
       "2016-02-21  bitcoin  437.77  448.05  429.08  438.80       441.98      365.45\n",
       "2016-04-15  bitcoin  424.43  429.93  424.43  429.71       428.80      406.14\n",
       "2016-04-16  bitcoin  429.57  432.63  428.98  430.57       429.93      407.23\n",
       "2016-04-19  bitcoin  428.70  436.02  428.10  435.51       432.63      412.50\n",
       "2016-04-20  bitcoin  435.32  443.05  434.41  441.39       436.02      412.50\n",
       "2016-04-21  bitcoin  441.42  450.55  440.95  449.43       443.05      412.50\n",
       "2016-04-24  bitcoin  450.56  460.15  448.93  458.56       450.55      412.50\n",
       "2016-04-25  bitcoin  459.12  466.62  453.59  461.43       460.15      412.50\n",
       "2016-04-26  bitcoin  461.65  467.96  461.62  466.09       466.62      412.50"
      ]
     },
     "execution_count": 294,
     "metadata": {},
     "output_type": "execute_result"
    }
   ],
   "source": [
    "df_btc.iloc[1000:1100][df_btc.High > df_btc.High_28_day]"
   ]
  },
  {
   "cell_type": "code",
   "execution_count": 295,
   "metadata": {},
   "outputs": [
    {
     "data": {
      "text/plain": [
       "Currency       bitcoin\n",
       "Open            416.57\n",
       "High               426\n",
       "Low             415.64\n",
       "Close           422.37\n",
       "High_28_day     422.88\n",
       "Low_28_day      365.45\n",
       "Name: 2016-02-18 00:00:00, dtype: object"
      ]
     },
     "execution_count": 295,
     "metadata": {},
     "output_type": "execute_result"
    }
   ],
   "source": [
    "df_btc.loc['2016-02-18']"
   ]
  },
  {
   "cell_type": "markdown",
   "metadata": {},
   "source": [
    "So we see here that the green range is the 28-day High/Low and the orange line is the High for the day.  So the signals we are looking for are anytime the orange line breaks above the green line.  This is our entry point for the trading strategy."
   ]
  },
  {
   "cell_type": "markdown",
   "metadata": {},
   "source": [
    "## Generate hypothetical trade data"
   ]
  },
  {
   "cell_type": "markdown",
   "metadata": {},
   "source": [
    "Now that we have the data we need and have gotten to take a look at it in a few general ways, lets create the data that we need in order to test the actual trading strategy.  The end goal is to have a list of price changes from each entry point as described above, to a period in time 28 days later.  That way we can see if break outs above the 28-day high are leading to higher prices."
   ]
  },
  {
   "cell_type": "code",
   "execution_count": 242,
   "metadata": {},
   "outputs": [
    {
     "name": "stdout",
     "output_type": "stream",
     "text": [
      "Number of Trades: 235\n",
      "Average price diff: 592.816\n"
     ]
    }
   ],
   "source": [
    "from pandas.tseries.offsets import *\n",
    "\n",
    "# Dataframe of potential trades because we need 28 days of data after entry\n",
    "df_trades = df_btc[:-28]\n",
    "\n",
    "# Get a series of hypothetical entry prices\n",
    "entry_prices = df_trades[df_trades.High > df_trades.High_28_day].High + 1\n",
    "\n",
    "# Create a series of exit prices based off closing price 28 days after entry date\n",
    "exit_dates = entry_prices.index + DateOffset(days=28)\n",
    "\n",
    "exit_prices = []\n",
    "\n",
    "for i in range(len(exit_dates)):\n",
    "    exit_prices.append(df_btc.loc[exit_dates[i]].Close)\n",
    "\n",
    "# Generate the final list of price differences\n",
    "exit_prices_array = np.array(exit_prices)\n",
    "price_diffs = exit_prices_array - entry_prices\n",
    "\n",
    "# Save number of trades and average price diff\n",
    "trade_count = len(price_diffs)\n",
    "ave_price_diff = price_diffs.mean()\n",
    "\n",
    "print('Number of Trades: {}'.format(trade_count))\n",
    "print('Average price diff: {}'.format(ave_price_diff))"
   ]
  },
  {
   "cell_type": "markdown",
   "metadata": {},
   "source": [
    "So over the entire period we counted **235** trades with the average price change being **$592.82**"
   ]
  },
  {
   "cell_type": "markdown",
   "metadata": {},
   "source": [
    "## Statistical Testing "
   ]
  },
  {
   "cell_type": "markdown",
   "metadata": {},
   "source": [
    "We now have the data we want and the sample mean.  It is time to pose the hypothesis and test it."
   ]
  },
  {
   "cell_type": "markdown",
   "metadata": {},
   "source": [
    "### Define Null and Alternative Hypotheses"
   ]
  },
  {
   "cell_type": "markdown",
   "metadata": {},
   "source": [
    "  * *Null Hypothesis:* Price change is random and therefore any mean of sample price differences is zero.\n",
    "  * *Alternative Hypothesis:* A breakout above a 28-day high leads to higher prices and therefore the mean of the sample of price differences is significantly greater than zero. "
   ]
  },
  {
   "cell_type": "markdown",
   "metadata": {},
   "source": [
    "### Check data for Normal Distribution"
   ]
  },
  {
   "cell_type": "markdown",
   "metadata": {},
   "source": [
    "In this example our underlying assumption is that price change is random and therefore is normally distributed.  We want to test whether our sample data falls in line with our assumption.  Here is a bar chart of the sample data so we can quickly inspect whether or not we believe it is normally distributed before applying the test."
   ]
  },
  {
   "cell_type": "code",
   "execution_count": 243,
   "metadata": {},
   "outputs": [
    {
     "data": {
      "image/png": "[encoded data removed]",
      "text/plain": [
       "<matplotlib.figure.Figure at 0x122e19588>"
      ]
     },
     "metadata": {},
     "output_type": "display_data"
    }
   ],
   "source": [
    "# Generate a bar chart of the sample data\n",
    "plt.figure(figsize=(10,6))\n",
    "\n",
    "plt.hist(price_diffs, bins=25)\n",
    "\n",
    "# Set title and labels\n",
    "plt.title('Price Changes After\\nBreakout Trades')\n",
    "plt.xlabel('Price Change')\n",
    "plt.ylabel('Frequency')\n",
    "\n",
    "plt.grid()\n",
    "plt.show()"
   ]
  },
  {
   "cell_type": "markdown",
   "metadata": {},
   "source": [
    "Because of the significant outliers it doesnt appear that the data is normally distributed.  Confirm this below with a Kolmogorov–Smirnov Test for goodness-of-fit."
   ]
  },
  {
   "cell_type": "code",
   "execution_count": 244,
   "metadata": {},
   "outputs": [
    {
     "data": {
      "text/plain": [
       "KstestResult(statistic=0.28005054310286659, pvalue=0.0)"
      ]
     },
     "execution_count": 244,
     "metadata": {},
     "output_type": "execute_result"
    }
   ],
   "source": [
    "# Fit mean and std of the data to normal dist\n",
    "mean, std = stats.norm.fit(price_diffs)\n",
    "\n",
    "# Create Normal dist and test \n",
    "n = stats.norm(loc=mean, scale=std)\n",
    "stats.kstest(price_diffs, n.cdf)"
   ]
  },
  {
   "cell_type": "markdown",
   "metadata": {},
   "source": [
    "The low test-statistic and p-value make it clear that this data does not follow the normal distribution and thus we cannot use a t-test here."
   ]
  },
  {
   "cell_type": "markdown",
   "metadata": {},
   "source": [
    "### Perform the test"
   ]
  },
  {
   "cell_type": "markdown",
   "metadata": {},
   "source": [
    "So we have to find another test to use and it this case I believe the Wilcoxon rank-sum test is appropriate.  It tests whether two sets of measurements are drawn from the same distribution.  In this case the **first set** would be the hypothetical set of **235** trades that had **$0** price change after 28 days.  The **second set** is our data."
   ]
  },
  {
   "cell_type": "code",
   "execution_count": 273,
   "metadata": {},
   "outputs": [
    {
     "name": "stdout",
     "output_type": "stream",
     "text": [
      "Test-statistic: 2.2499257913182964\n",
      "p-value: 0.024453656418820857\n"
     ]
    }
   ],
   "source": [
    "np.random.seed(0)\n",
    "\n",
    "# Create a list of random price changes with mean 0, same size and standard dev as our sample\n",
    "price_diffs_0 = np.random.randn(len(price_diffs)) * price_diffs.std() \n",
    "\n",
    "# Rank-sums test\n",
    "t_stat, p_value = stats.ranksums(price_diffs, price_diffs_0)\n",
    "\n",
    "print('Test-statistic: {}'.format(t_stat))\n",
    "print('p-value: {}'.format(p_value))"
   ]
  },
  {
   "cell_type": "markdown",
   "metadata": {},
   "source": [
    "### Summarize results"
   ]
  },
  {
   "cell_type": "markdown",
   "metadata": {},
   "source": [
    "Given the positive test statistic and p-value below 0.05 we **reject the null hypothesis** that the two samples came from the same distribution.  Because this is a two-sided test the positive statistic shows that after entry of our sample trades the price of Bitcoin did tend to rise in the next 28 days."
   ]
  },
  {
   "cell_type": "markdown",
   "metadata": {},
   "source": [
    "By visually inspecting the data this seems to be confirmed.  However, for me personally, it is quite surprising to see the results not skewed even more to the positive side.  This is a market that has been in a clear uptrend and when it does go, it moves violently.  The high variance is certainly expected and seeing some of the significant price changes over the course of these four-week periods gives clear confirmation that this is an extremely volatile market."
   ]
  },
  {
   "cell_type": "markdown",
   "metadata": {},
   "source": [
    "## Further Exploration"
   ]
  },
  {
   "cell_type": "markdown",
   "metadata": {},
   "source": [
    "There are a number of places to go from here as far as continuing and improving the analysis in order to make some real trading decisions down the road.  I will list a few here and hopefully explore them soon or as part of future projects."
   ]
  },
  {
   "cell_type": "markdown",
   "metadata": {},
   "source": [
    "1. What about the short side of things?  This analysis only took into account long trades for simplicity but it would be interesting to see if break-outs below the lows of the range showed similar results.\n",
    "\n",
    "2.  The real Turtle traders used a breakout system similar to this one to determine their entry points into the market.  However, entry point is only one of many aspects that make up a real trading plan.  I want to further explore setting risk and profit targets based on price volatility and then seeing what the overall expected value of the trading strategy would be.  \n",
    "\n",
    "3.  Why confine the results to Bitcoin?  A robust trading strategy should be able to show positive expectancy for other cryptocurrencies, stocks, commodities, etc.  Abstracting this study and then using it on other products is a real world project that I'm sure many people are pursuing with all kinds of strategies right now."
   ]
  }
 ],
 "metadata": {
  "kernelspec": {
   "display_name": "Python 3",
   "language": "python",
   "name": "python3"
  },
  "language_info": {
   "codemirror_mode": {
    "name": "ipython",
    "version": 3
   },
   "file_extension": ".py",
   "mimetype": "text/x-python",
   "name": "python",
   "nbconvert_exporter": "python",
   "pygments_lexer": "ipython3",
   "version": "3.6.3"
  }
 },
 "nbformat": 4,
 "nbformat_minor": 2
}
